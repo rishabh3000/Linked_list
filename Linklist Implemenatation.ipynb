{
 "cells": [
  {
   "cell_type": "code",
   "execution_count": 1,
   "metadata": {},
   "outputs": [
    {
     "name": "stdout",
     "output_type": "stream",
     "text": [
      "5\n",
      "3\n"
     ]
    }
   ],
   "source": [
    "class Node:\n",
    "    def __init__(self,val):\n",
    "        self.data=val\n",
    "        self.next=None\n",
    "    \n",
    "node1=Node(1)\n",
    "node2=Node(3)\n",
    "node3=Node(5)\n",
    "node=Node(6)\n",
    "\n",
    "node1.next=node2\n",
    "node2.next=node3\n",
    "print(node2.next.data)\n",
    "print(node2.data)"
   ]
  },
  {
   "cell_type": "code",
   "execution_count": 2,
   "metadata": {},
   "outputs": [
    {
     "name": "stdout",
     "output_type": "stream",
     "text": [
      "1 3 54 6 898 9 5 3 5 7 89 \n",
      "1--->3--->54--->6--->898--->9--->5--->3--->5--->7--->89--->NULL\n"
     ]
    }
   ],
   "source": [
    "class Node:\n",
    "    def __init__(self, val):\n",
    "        self.data = val\n",
    "        self.next = None\n",
    "\n",
    "\n",
    "\n",
    "\n",
    "#head-->1--->2--->3---->4--->5--->tail\n",
    "##\n",
    "##node1 = Node(1)\n",
    "##node2 = Node(200)\n",
    "##node3 = Node(300)\n",
    "##node4 = Node(400)\n",
    "##node5 = Node(500)\n",
    "##\n",
    "##node1.next = node2\n",
    "##node2.next = node3\n",
    "##node3.next = node4\n",
    "##node4.next = node5\n",
    "\n",
    "def takeInput():\n",
    "    inputList = [int(ele) for ele in input().split()]\n",
    "    head = None\n",
    "    tail = None\n",
    "    for currentData in inputList:\n",
    "        if(currentData == -1):\n",
    "            break\n",
    "        newNode = Node(currentData)\n",
    "        if(head is None):\n",
    "            head = newNode\n",
    "            tail = newNode\n",
    "        else:\n",
    "            tail.next = newNode\n",
    "            tail = newNode\n",
    "    return head\n",
    "\n",
    "\n",
    "\n",
    "rishabh = takeInput()\n",
    "\n",
    "def printLL(head):\n",
    "    while(head is not None):\n",
    "        print(str(head.data) + \"--->\", end = \"\")\n",
    "        head = head.next\n",
    "    print(\"NULL\")\n",
    "\n",
    "printLL(rishabh)\n"
   ]
  },
  {
   "cell_type": "code",
   "execution_count": null,
   "metadata": {},
   "outputs": [],
   "source": []
  }
 ],
 "metadata": {
  "kernelspec": {
   "display_name": "Python 3",
   "language": "python",
   "name": "python3"
  },
  "language_info": {
   "codemirror_mode": {
    "name": "ipython",
    "version": 3
   },
   "file_extension": ".py",
   "mimetype": "text/x-python",
   "name": "python",
   "nbconvert_exporter": "python",
   "pygments_lexer": "ipython3",
   "version": "3.8.3"
  }
 },
 "nbformat": 4,
 "nbformat_minor": 4
}
